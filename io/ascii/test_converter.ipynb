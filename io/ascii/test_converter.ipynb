{
 "metadata": {
  "name": ""
 },
 "nbformat": 3,
 "nbformat_minor": 0,
 "worksheets": [
  {
   "cells": [
    {
     "cell_type": "heading",
     "level": 1,
     "metadata": {},
     "source": [
      "Extreme value testing for fast io.ascii converter"
     ]
    },
    {
     "cell_type": "markdown",
     "metadata": {},
     "source": [
      "This notebook tests the io.ascii fast converter for a wide range of input, including very high and low exponents. This reveals the fast converter's functionality for values outside the range of floating-point values and subnormals (values at the extreme low end of the range). It also makes sure that the fast converter will produce an overflow error if and only if `float()` also returns an overflow error.\n",
      "\n",
      "##Summary##\n",
      "* The fast converter works reasonably well with extreme values, although it may produce a greater conversion error. It also raises an overflow error only in appropriate cases.\n",
      "* Ordinary conversion error tends to be around 0.5 ULP.\n",
      "* The worst-case error for all input seems to be a little less than 3.0 ULP, and this generally occurs for very high-precision and/or high or low exponent input."
     ]
    },
    {
     "cell_type": "raw",
     "metadata": {},
     "source": [
      "Import modules"
     ]
    },
    {
     "cell_type": "code",
     "collapsed": false,
     "input": [
      "import random\n",
      "from decimal import Decimal, InvalidOperation\n",
      "import numpy as np\n",
      "import matplotlib.pyplot as plt\n",
      "from astropy.io import ascii\n",
      "from cStringIO import StringIO\n",
      "import itertools\n",
      "%matplotlib inline"
     ],
     "language": "python",
     "metadata": {},
     "outputs": [],
     "prompt_number": 1
    },
    {
     "cell_type": "raw",
     "metadata": {},
     "source": [
      "Return fast conversion of input value"
     ]
    },
    {
     "cell_type": "code",
     "collapsed": false,
     "input": [
      "def xstrtod(s):\n",
      "    return ascii.read(StringIO(s), format='no_header', guess=False, use_fast_converter=True)[0][0]"
     ],
     "language": "python",
     "metadata": {},
     "outputs": [],
     "prompt_number": 2
    },
    {
     "cell_type": "raw",
     "metadata": {},
     "source": [
      "Create random number with given exponent and number of integer digits, decimal digits"
     ]
    },
    {
     "cell_type": "code",
     "collapsed": false,
     "input": [
      "def randnum(int_length, decimal_length, exponent):\n",
      "    if random.random() < 0.5:\n",
      "        s = '-'\n",
      "    else:\n",
      "        s = ''\n",
      "    s += random.choice('123456789') # avoid leading 0\n",
      "    s += ''.join([random.choice('0123456789') for x in range(int_length - 1)]) + '.'\n",
      "    for i in range(decimal_length):\n",
      "        s += random.choice('0123456789')\n",
      "    s += 'e{0}'.format(exponent)\n",
      "    return s"
     ],
     "language": "python",
     "metadata": {},
     "outputs": [],
     "prompt_number": 3
    },
    {
     "cell_type": "raw",
     "metadata": {},
     "source": [
      "Return decimal value of unit in last place (gap between consecutive floats) at input value"
     ]
    },
    {
     "cell_type": "code",
     "collapsed": false,
     "input": [
      "def ulp(s):\n",
      "    num = Decimal(s)\n",
      "    f = np.float64(s)\n",
      "    a = f.view((np.uint8, 8))\n",
      "    # Since this is uint8 make sure the result doesn't accidentally wrap\n",
      "    if a[0] == 0:\n",
      "        a[0] = 1\n",
      "    elif a[0] == 255:\n",
      "        a[0] = 254\n",
      "    elif Decimal(f) < num:\n",
      "        a[0] += 1\n",
      "    elif Decimal(f) > num:\n",
      "        a[0] -= 1\n",
      "    f2 = a.view(np.float64)[0]\n",
      "    return abs(f2 - f)"
     ],
     "language": "python",
     "metadata": {},
     "outputs": [],
     "prompt_number": 4
    },
    {
     "cell_type": "raw",
     "metadata": {},
     "source": [
      "Return the error of conversion for a given value"
     ]
    },
    {
     "cell_type": "code",
     "collapsed": false,
     "input": [
      "def error(s):\n",
      "    guess = xstrtod(s)\n",
      "    xstrtod_failed = isinstance(guess, str) # fast converter failed\n",
      "    should_fail = (float(s) in (float('1e400'), float('-1e400'))) # -inf or inf\n",
      "    if xstrtod_failed and should_fail:\n",
      "        return None\n",
      "    elif xstrtod_failed or should_fail: # one failed but not the other\n",
      "        print(guess, should_fail)\n",
      "        raise ValueError('Incorrect conversion with {0}'.format(s))\n",
      "    decimal_diff = abs(Decimal(s) - Decimal(guess))\n",
      "    try:\n",
      "        return float(decimal_diff / Decimal(ulp(s)))\n",
      "    except InvalidOperation as e: # ulp(s) == 0\n",
      "        return 0"
     ],
     "language": "python",
     "metadata": {},
     "outputs": [],
     "prompt_number": 5
    },
    {
     "cell_type": "raw",
     "metadata": {},
     "source": [
      "Return list of error values for given integer/decimal digits and a range of exponents"
     ]
    },
    {
     "cell_type": "code",
     "collapsed": false,
     "input": [
      "def test_values(int_length, decimal_length):\n",
      "    errors = []\n",
      "    for exponent in range(-315, 315): # test outside the acceptable bounds as well\n",
      "        num = randnum(int_length, decimal_length, exponent)\n",
      "        f = error(num)\n",
      "        if f > 2.5: # especially large error\n",
      "            print 'Bad value: {0}'.format(num)\n",
      "        if f is not None: # ignore numbers outside float bounds\n",
      "            errors.append(f)\n",
      "    return errors"
     ],
     "language": "python",
     "metadata": {},
     "outputs": [],
     "prompt_number": 6
    },
    {
     "cell_type": "raw",
     "metadata": {},
     "source": [
      "Test different permutations of number of integer/decimal digits"
     ]
    },
    {
     "cell_type": "code",
     "collapsed": false,
     "input": [
      "int_lengths = [1, 5, 10, 15, 20, 25]\n",
      "decimal_lengths = [0, 5, 10, 15, 20, 25]\n",
      "error_lists = []\n",
      "for int_length, decimal_length in itertools.product(int_lengths, decimal_lengths):\n",
      "    error_lists.append(test_values(int_length, decimal_length))\n",
      "exponent_errors = zip(*error_lists)\n",
      "max_errors = [max(x) for x in exponent_errors]\n",
      "mean_errors = [sum(x) / len(x) for x in exponent_errors]"
     ],
     "language": "python",
     "metadata": {},
     "outputs": [
      {
       "output_type": "stream",
       "stream": "stdout",
       "text": [
        "Bad value: 9.47555945185202173627e244\n",
        "Bad value: 78002.6692134944784096748930962e-206"
       ]
      },
      {
       "output_type": "stream",
       "stream": "stdout",
       "text": [
        "\n",
        "Bad value: 919095021293529.19127e174"
       ]
      },
      {
       "output_type": "stream",
       "stream": "stdout",
       "text": [
        "\n",
        "Bad value: -952792549355576.5774034343e-298"
       ]
      },
      {
       "output_type": "stream",
       "stream": "stdout",
       "text": [
        "\n",
        "Bad value: 903409046481766.9421736498082286419236427e60"
       ]
      },
      {
       "output_type": "stream",
       "stream": "stdout",
       "text": [
        "\n",
        "Bad value: 18214130551216292149.6018915011e155"
       ]
      },
      {
       "output_type": "stream",
       "stream": "stdout",
       "text": [
        "\n"
       ]
      }
     ],
     "prompt_number": 7
    },
    {
     "cell_type": "raw",
     "metadata": {},
     "source": [
      "Plot graph of maximum error"
     ]
    },
    {
     "cell_type": "code",
     "collapsed": false,
     "input": [
      "plt.hist(max_errors, bins=30, log=True)\n",
      "plt.xlabel('Maximum error in ULP')\n",
      "plt.ylabel('Logarithm of requency')\n",
      "plt.show()"
     ],
     "language": "python",
     "metadata": {},
     "outputs": [
      {
       "metadata": {},
       "output_type": "display_data",
       "png": "[encoded data removed]",
       "text": [
        "<matplotlib.figure.Figure at 0x7f7ababdafd0>"
       ]
      }
     ],
     "prompt_number": 8
    },
    {
     "cell_type": "raw",
     "metadata": {},
     "source": [
      "Plot graph of mean error"
     ]
    },
    {
     "cell_type": "code",
     "collapsed": false,
     "input": [
      "plt.hist(mean_errors, bins=30, log=True)\n",
      "plt.xlabel('Mean error in ULP')\n",
      "plt.ylabel('Logarithm of requency')\n",
      "plt.show()"
     ],
     "language": "python",
     "metadata": {},
     "outputs": [
      {
       "metadata": {},
       "output_type": "display_data",
       "png": "[encoded data removed]",
       "text": [
        "<matplotlib.figure.Figure at 0x7f7abab19e10>"
       ]
      }
     ],
     "prompt_number": 9
    }
   ],
   "metadata": {}
  }
 ]
}